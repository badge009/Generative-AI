{
  "nbformat": 4,
  "nbformat_minor": 0,
  "metadata": {
    "colab": {
      "provenance": []
    },
    "kernelspec": {
      "name": "python3",
      "display_name": "Python 3"
    },
    "language_info": {
      "name": "python"
    }
  },
  "cells": [
    {
      "cell_type": "code",
      "execution_count": 7,
      "metadata": {
        "colab": {
          "base_uri": "https://localhost:8080/"
        },
        "id": "Xl5mQMh0aHzf",
        "outputId": "e4e490f5-2de5-47f9-d88e-f32175c9fa92"
      },
      "outputs": [
        {
          "output_type": "stream",
          "name": "stdout",
          "text": [
            "Requirement already satisfied: python-dotenv in /usr/local/lib/python3.10/dist-packages (1.0.1)\n",
            "\u001b[2K   \u001b[90m━━━━━━━━━━━━━━━━━━━━━━━━━━━━━━━━━━━━━━━━\u001b[0m \u001b[32m54.4/54.4 kB\u001b[0m \u001b[31m3.6 MB/s\u001b[0m eta \u001b[36m0:00:00\u001b[0m\n",
            "\u001b[2K   \u001b[90m━━━━━━━━━━━━━━━━━━━━━━━━━━━━━━━━━━━━━━━━\u001b[0m \u001b[32m412.2/412.2 kB\u001b[0m \u001b[31m11.0 MB/s\u001b[0m eta \u001b[36m0:00:00\u001b[0m\n",
            "\u001b[2K   \u001b[90m━━━━━━━━━━━━━━━━━━━━━━━━━━━━━━━━━━━━━━━━\u001b[0m \u001b[32m456.1/456.1 kB\u001b[0m \u001b[31m26.5 MB/s\u001b[0m eta \u001b[36m0:00:00\u001b[0m\n",
            "\u001b[2K   \u001b[90m━━━━━━━━━━━━━━━━━━━━━━━━━━━━━━━━━━━━━━━━\u001b[0m \u001b[32m1.2/1.2 MB\u001b[0m \u001b[31m39.1 MB/s\u001b[0m eta \u001b[36m0:00:00\u001b[0m\n",
            "\u001b[?25h"
          ]
        }
      ],
      "source": [
        "!pip install python-dotenv\n",
        "! pip install -qU langchain-openai\n"
      ]
    },
    {
      "cell_type": "code",
      "source": [
        "import os\n",
        "from dotenv import load_dotenv"
      ],
      "metadata": {
        "id": "LeYJ0Ej-aNCB"
      },
      "execution_count": 3,
      "outputs": []
    },
    {
      "cell_type": "code",
      "source": [
        "# Create and save the .env file\n",
        "env_content = \"\"\"\n",
        "LANGSMITH_TRACING=true\n",
        "LANGSMITH_ENDPOINT=https://api.smith.langchain.com\n",
        "LANGSMITH_API_KEY=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\n",
        "LANGSMITH_PROJECT=pr-minty-canvas-57\n",
        "OPENAI_API_KEY=\n",
        "\"\"\"\n",
        "\n",
        "with open(\".env\", \"w\") as f:\n",
        "    f.write(env_content.strip())\n",
        "\n",
        "print(\".env file created successfully!\")\n"
      ],
      "metadata": {
        "colab": {
          "base_uri": "https://localhost:8080/"
        },
        "id": "d-VXrvOzaNGH",
        "outputId": "2b7bc98d-1b8b-478a-89a8-08931f294b54"
      },
      "execution_count": 21,
      "outputs": [
        {
          "output_type": "stream",
          "name": "stdout",
          "text": [
            ".env file created successfully!\n"
          ]
        }
      ]
    },
    {
      "cell_type": "code",
      "source": [
        "load_dotenv(\".env\")"
      ],
      "metadata": {
        "colab": {
          "base_uri": "https://localhost:8080/"
        },
        "id": "cbRSSEZVaNJ8",
        "outputId": "dd600eec-784a-4a49-a442-b923573c80ca"
      },
      "execution_count": 5,
      "outputs": [
        {
          "output_type": "execute_result",
          "data": {
            "text/plain": [
              "True"
            ]
          },
          "metadata": {},
          "execution_count": 5
        }
      ]
    },
    {
      "cell_type": "code",
      "source": [
        "from langchain_openai import ChatOpenAI\n",
        "\n",
        "llm = ChatOpenAI(\n",
        "    model=\"gpt-4o\",\n",
        "    temperature=0,\n",
        "    max_tokens=None,\n",
        "    timeout=None,\n",
        "    max_retries=2)"
      ],
      "metadata": {
        "id": "h3HFaD0OaNN1"
      },
      "execution_count": 9,
      "outputs": []
    },
    {
      "cell_type": "code",
      "source": [
        "messages = [\n",
        "    (\n",
        "        \"system\",\n",
        "        \"You are a helpful assistant that translates English to French. Translate the user sentence.\",\n",
        "    ),\n",
        "    (\"human\", \"I love programming.\"),\n",
        "]\n",
        "ai_msg = llm.invoke(messages)\n",
        "ai_msg"
      ],
      "metadata": {
        "colab": {
          "base_uri": "https://localhost:8080/"
        },
        "id": "Gdo2mFCHaNRf",
        "outputId": "b704a36f-5d23-4bf8-c72f-7523edb22a95"
      },
      "execution_count": 11,
      "outputs": [
        {
          "output_type": "execute_result",
          "data": {
            "text/plain": [
              "AIMessage(content=\"J'adore la programmation.\", additional_kwargs={'refusal': None}, response_metadata={'token_usage': {'completion_tokens': 6, 'prompt_tokens': 31, 'total_tokens': 37, 'completion_tokens_details': {'accepted_prediction_tokens': 0, 'audio_tokens': 0, 'reasoning_tokens': 0, 'rejected_prediction_tokens': 0}, 'prompt_tokens_details': {'audio_tokens': 0, 'cached_tokens': 0}}, 'model_name': 'gpt-4o-2024-08-06', 'system_fingerprint': 'fp_4691090a87', 'finish_reason': 'stop', 'logprobs': None}, id='run-7e6567a6-2e8e-4a2b-a36d-ba98511a55ff-0', usage_metadata={'input_tokens': 31, 'output_tokens': 6, 'total_tokens': 37, 'input_token_details': {'audio': 0, 'cache_read': 0}, 'output_token_details': {'audio': 0, 'reasoning': 0}})"
            ]
          },
          "metadata": {},
          "execution_count": 11
        }
      ]
    },
    {
      "cell_type": "code",
      "source": [
        "from langchain_core.prompts import ChatPromptTemplate\n",
        "\n",
        "prompt = ChatPromptTemplate.from_messages(\n",
        "    [\n",
        "        (\n",
        "            \"system\",\n",
        "            \"You are a helpful assistant that translates {input_language} to {output_language}.\",\n",
        "        ),\n",
        "        (\"user\", \"{input}\"),\n",
        "    ]\n",
        ")\n",
        "prompt"
      ],
      "metadata": {
        "colab": {
          "base_uri": "https://localhost:8080/"
        },
        "id": "jV2Q3P7gaNWi",
        "outputId": "087c609c-8839-44dc-9341-1c641b949186"
      },
      "execution_count": 18,
      "outputs": [
        {
          "output_type": "execute_result",
          "data": {
            "text/plain": [
              "ChatPromptTemplate(input_variables=['input', 'input_language', 'output_language'], input_types={}, partial_variables={}, messages=[SystemMessagePromptTemplate(prompt=PromptTemplate(input_variables=['input_language', 'output_language'], input_types={}, partial_variables={}, template='You are a helpful assistant that translates {input_language} to {output_language}.'), additional_kwargs={}), HumanMessagePromptTemplate(prompt=PromptTemplate(input_variables=['input'], input_types={}, partial_variables={}, template='{input}'), additional_kwargs={})])"
            ]
          },
          "metadata": {},
          "execution_count": 18
        }
      ]
    },
    {
      "cell_type": "code",
      "source": [
        "chain = prompt | llm\n",
        "chain.invoke(\n",
        "    {\n",
        "        \"input_language\": \"English\",\n",
        "        \"output_language\": \"Bengali\",\n",
        "        \"input\": \"can you tell me about bangladesh???\",\n",
        "    }\n",
        ")"
      ],
      "metadata": {
        "colab": {
          "base_uri": "https://localhost:8080/"
        },
        "id": "hPgl3-7XaNbl",
        "outputId": "e60e9500-f269-4446-e094-0c54f929f18e"
      },
      "execution_count": 20,
      "outputs": [
        {
          "output_type": "execute_result",
          "data": {
            "text/plain": [
              "AIMessage(content='বাংলাদেশ দক্ষিণ এশিয়ার একটি দেশ, যা ভারত ও মিয়ানমারের মধ্যে অবস্থিত। এর রাজধানী ঢাকা এবং এটি বিশ্বের অষ্টম জনবহুল দেশ। বাংলাদেশের প্রধান ভাষা বাংলা এবং মুদ্রা হলো টাকা। দেশটি ১৯৭১ সালে পাকিস্তান থেকে স্বাধীনতা লাভ করে। বাংলাদেশের প্রধান ধর্ম ইসলাম, তবে হিন্দু, বৌদ্ধ এবং খ্রিস্টান ধর্মাবলম্বীরাও এখানে বাস করে। \\n\\nবাংলাদেশের অর্থনীতি প্রধানত কৃষিভিত্তিক, তবে তৈরি পোশাক শিল্প, রেমিট্যান্স এবং তথ্যপ্রযুক্তি খাতও গুরুত্বপূর্ণ ভূমিকা পালন করে। দেশের প্রধান নদীগুলি হলো পদ্মা, মেঘনা এবং যমুনা। বাংলাদেশ তার প্রাকৃতিক সৌন্দর্য, যেমন সুন্দরবন ও কক্সবাজার সমুদ্র সৈকতের জন্য বিখ্যাত। \\n\\nবাংলাদেশের সংস্কৃতি সমৃদ্ধ এবং বৈচিত্র্যময়, যেখানে ভাষা, সঙ্গীত, নৃত্য, এবং খাদ্য বিশেষভাবে উল্লেখযোগ্য। পহেলা বৈশাখ, ঈদ, দুর্গাপূজা ইত্যাদি উৎসবগুলি এখানে ব্যাপকভাবে উদযাপিত হয়।', additional_kwargs={'refusal': None}, response_metadata={'token_usage': {'completion_tokens': 249, 'prompt_tokens': 30, 'total_tokens': 279, 'completion_tokens_details': {'accepted_prediction_tokens': 0, 'audio_tokens': 0, 'reasoning_tokens': 0, 'rejected_prediction_tokens': 0}, 'prompt_tokens_details': {'audio_tokens': 0, 'cached_tokens': 0}}, 'model_name': 'gpt-4o-2024-08-06', 'system_fingerprint': 'fp_936db42f35', 'finish_reason': 'stop', 'logprobs': None}, id='run-bf334fd5-d48f-4688-8394-a41912e29099-0', usage_metadata={'input_tokens': 30, 'output_tokens': 249, 'total_tokens': 279, 'input_token_details': {'audio': 0, 'cache_read': 0}, 'output_token_details': {'audio': 0, 'reasoning': 0}})"
            ]
          },
          "metadata": {},
          "execution_count": 20
        }
      ]
    },
    {
      "cell_type": "code",
      "source": [
        "code = \"\"\"\n",
        "/// <summary>\n",
        "/// Represents a user with a first name, last name, and username.\n",
        "/// </summary>\n",
        "public class User\n",
        "{\n",
        "    /// <summary>\n",
        "    /// Gets or sets the user's first name.\n",
        "    /// </summary>\n",
        "    public string FirstName { get; set; }\n",
        "\n",
        "    /// <summary>\n",
        "    /// Gets or sets the user's last name.\n",
        "    /// </summary>\n",
        "    public string LastName { get; set; }\n",
        "\n",
        "    /// <summary>\n",
        "    /// Gets or sets the user's username.\n",
        "    /// </summary>\n",
        "    public string Username { get; set; }\n",
        "}\n",
        "\"\"\"\n",
        "\n",
        "llm = ChatOpenAI(model=\"gpt-4o\")\n",
        "query = (\n",
        "    \"Replace the Username property with an Email property. \"\n",
        "    \"Respond only with code, and with no markdown formatting.\"\n",
        ")\n",
        "response = llm.invoke(\n",
        "    [{\"role\": \"user\", \"content\": query}, {\"role\": \"user\", \"content\": code}],\n",
        "    prediction={\"type\": \"content\", \"content\": code},\n",
        ")\n",
        "print(response.content)\n",
        "print(response.response_metadata)"
      ],
      "metadata": {
        "colab": {
          "base_uri": "https://localhost:8080/"
        },
        "id": "gyEohkaYpWy-",
        "outputId": "44ab08ec-f217-4231-8c11-3bf6ddfbf2b3"
      },
      "execution_count": 28,
      "outputs": [
        {
          "output_type": "stream",
          "name": "stdout",
          "text": [
            "/// <summary>\n",
            "/// Represents a user with a first name, last name, and email.\n",
            "/// </summary>\n",
            "public class User\n",
            "{\n",
            "    /// <summary>\n",
            "    /// Gets or sets the user's first name.\n",
            "    /// </summary>\n",
            "    public string FirstName { get; set; }\n",
            "\n",
            "    /// <summary>\n",
            "    /// Gets or sets the user's last name.\n",
            "    /// </summary>\n",
            "    public string LastName { get; set; }\n",
            "\n",
            "    /// <summary>\n",
            "    /// Gets or sets the user's email.\n",
            "    /// </summary>\n",
            "    public string Email { get; set; }\n",
            "}\n",
            "{'token_usage': {'completion_tokens': 226, 'prompt_tokens': 150, 'total_tokens': 376, 'completion_tokens_details': {'accepted_prediction_tokens': 49, 'audio_tokens': 0, 'reasoning_tokens': 0, 'rejected_prediction_tokens': 107}, 'prompt_tokens_details': {'audio_tokens': 0, 'cached_tokens': 0}}, 'model_name': 'gpt-4o-2024-08-06', 'system_fingerprint': 'fp_4691090a87', 'finish_reason': 'stop', 'logprobs': None}\n"
          ]
        }
      ]
    }
  ]
}