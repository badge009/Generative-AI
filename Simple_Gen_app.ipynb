{
  "nbformat": 4,
  "nbformat_minor": 0,
  "metadata": {
    "colab": {
      "provenance": []
    },
    "kernelspec": {
      "name": "python3",
      "display_name": "Python 3"
    },
    "language_info": {
      "name": "python"
    }
  },
  "cells": [
    {
      "cell_type": "code",
      "execution_count": 1,
      "metadata": {
        "colab": {
          "base_uri": "https://localhost:8080/"
        },
        "id": "sYIdeJUdukrg",
        "outputId": "e14a82c8-fe9c-41a7-c3e5-0517f16ff713"
      },
      "outputs": [
        {
          "output_type": "stream",
          "name": "stdout",
          "text": [
            "Requirement already satisfied: python-dotenv in /usr/local/lib/python3.11/dist-packages (1.0.1)\n",
            "Requirement already satisfied: faiss-cpu in /usr/local/lib/python3.11/dist-packages (1.9.0.post1)\n",
            "Requirement already satisfied: numpy<3.0,>=1.25.0 in /usr/local/lib/python3.11/dist-packages (from faiss-cpu) (1.26.4)\n",
            "Requirement already satisfied: packaging in /usr/local/lib/python3.11/dist-packages (from faiss-cpu) (24.2)\n"
          ]
        }
      ],
      "source": [
        "\n",
        "! pip install python-dotenv\n",
        "! pip install -qU langchain-openai\n",
        "! pip install -qU langchain_community beautifulsoup4\n",
        "! pip install faiss-cpu"
      ]
    },
    {
      "cell_type": "code",
      "source": [
        "env_content = \"\"\"\n",
        "LANGSMITH_TRACING=true\n",
        "LANGSMITH_ENDPOINT=https://api.smith.langchain.com\n",
        "LANGSMITH_API_KEY=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\n",
        "LANGSMITH_PROJECT=pr-minty-canvas-57\n",
        "OPENAI_API_KEY=\n",
        "\"\"\"\n",
        "\n",
        "with open(\".env\", \"w\") as f:\n",
        "    f.write(env_content.strip())\n",
        "\n",
        "print(\".env file created successfully!\")"
      ],
      "metadata": {
        "colab": {
          "base_uri": "https://localhost:8080/"
        },
        "id": "OvRwzQOpuohu",
        "outputId": "eeef64eb-638d-45c8-f96e-4351dc3d5c35"
      },
      "execution_count": 2,
      "outputs": [
        {
          "output_type": "stream",
          "name": "stdout",
          "text": [
            ".env file created successfully!\n"
          ]
        }
      ]
    },
    {
      "cell_type": "code",
      "source": [
        "import os\n",
        "from dotenv import load_dotenv\n",
        "load_dotenv()"
      ],
      "metadata": {
        "colab": {
          "base_uri": "https://localhost:8080/"
        },
        "id": "0FqMzzi1uokv",
        "outputId": "30833638-4a6f-48da-d18a-d8e9f141f815"
      },
      "execution_count": 3,
      "outputs": [
        {
          "output_type": "execute_result",
          "data": {
            "text/plain": [
              "True"
            ]
          },
          "metadata": {},
          "execution_count": 3
        }
      ]
    },
    {
      "cell_type": "code",
      "source": [
        "from langchain_community.document_loaders import WebBaseLoader\n",
        "\n",
        "loader = WebBaseLoader(\"https://blog.langchain.dev/how-captide-is-redefining-equity-research-with-agentic-workflows-built-on-langgraph-and-langsmith/\")"
      ],
      "metadata": {
        "colab": {
          "base_uri": "https://localhost:8080/"
        },
        "id": "W57oz46Vuong",
        "outputId": "e5ce25f1-bd65-4cc1-fa9a-772660fc9c34"
      },
      "execution_count": 4,
      "outputs": [
        {
          "output_type": "stream",
          "name": "stderr",
          "text": [
            "WARNING:langchain_community.utils.user_agent:USER_AGENT environment variable not set, consider setting it to identify your requests.\n"
          ]
        }
      ]
    },
    {
      "cell_type": "code",
      "source": [
        "docs=loader.load()\n",
        "docs"
      ],
      "metadata": {
        "colab": {
          "base_uri": "https://localhost:8080/"
        },
        "id": "mHKSQ5a5uos2",
        "outputId": "cea43ab5-8171-406d-9322-068640f7cc27"
      },
      "execution_count": 5,
      "outputs": [
        {
          "output_type": "execute_result",
          "data": {
            "text/plain": [
              "[Document(metadata={'source': 'https://blog.langchain.dev/how-captide-is-redefining-equity-research-with-agentic-workflows-built-on-langgraph-and-langsmith/', 'title': 'How Captide is redefining equity research with agentic workflows running on LangGraph Platform', 'language': 'en'}, page_content=\"\\n\\n\\nHow Captide is redefining equity research with agentic workflows running on LangGraph Platform\\n\\n\\n\\n\\n\\n\\n\\n\\n\\n\\n\\n\\n\\n\\n\\n\\n\\n\\n\\n\\n\\n\\n\\n\\n\\n\\n\\n\\n\\n\\n\\n\\n\\n\\n\\n\\n\\n\\n\\n\\n\\n\\n\\n\\n\\n\\n\\n\\n\\n\\n\\n\\nSkip to content\\n\\n\\n\\n\\n\\n\\n\\n\\n\\n\\n\\n\\n\\n\\n\\n\\nCase Studies\\n\\n\\n\\n\\nIn the Loop\\n\\n\\n\\n\\nLangChain\\n\\n\\n\\n\\nDocs\\n\\n\\n\\n\\nChangelog\\n\\n\\n\\n\\n\\nSign in\\nSubscribe\\n\\n\\n\\n\\n\\n\\n\\n\\n\\n\\n\\n\\n\\n\\n\\n\\n\\n\\n\\nHow Captide is redefining equity research with agentic workflows running on LangGraph Platform\\n\\nCase Studies\\n3 min read\\nJan 20, 2025\\n\\n\\n\\n\\n\\nCaptideâ€™s platform transforms how investment research teams work with financial data. By automating the extraction of insights and metrics from regulatory filings and investor relations documents, analysts can create customized datasets and analyses with extreme efficiency. At the heart of this innovation is their commitment to NLP workflows and its strategic integration of LangGraph and LangSmith, hosted on LangGraph Platform.Redefining Financial Analysis with NLP WorkflowsBy allowing users to articulate complex analysis tasks in natural language, Captide simplifies the process of extracting financial metrics, creating customized datasets, and uncovering contextual insights. Once the user defines their analysis tasks, Captideâ€™s agents take over, orchestrating the entire data retrieval and processing pipeline from a big corpus of financial documents.This seamless transition from query to actionable results redefines efficiency in financial analysis. It provides unmatched flexibility to extract company-specific metrics and insights, overcoming the fixed-schema limitations of legacy platforms, while analyzing exponentially larger volumes of investments.To achieve this, Captide relies on the capabilities of LangGraph and LangSmith, ensuring precision, scalability, and reliable outputs that align with the stringent standards of the financial industry.Using LangGraph for parallel processing and structured outputsðŸ’¡LangGraph has become indispensable in Captideâ€™s technological stack.The frameworkâ€™s intuitive design has streamlined development, reducing the complexity of tracking agent workflows while enhancing operational efficiency. With LangGraph, Captideâ€™s team can manage complex agentic processes, such as parallel document processing and creation of structured outputs with ease.For example, when analyzing vast troves of regulatory filings, LangGraphâ€™s parallel processing capabilities come into play. Multiple agents work simultaneously to execute ticker-specific vector store queries, retrieve relevant documents, and grade each document chunks. This approach not only minimizes latency but also eliminates the need to complicate the codebase with asynchronous functions.The platformâ€™s ability to generate structured outputs is another highlight. By leveraging LangGraphâ€™s trustcall python library, Captide ensures that users can request table outputs with their custom schemas to structure metrics found in distinct documents. Trustcall makes the output adhere strictly to predefined JSON schemas, an essential requirement for Captideâ€™s features. This guarantees consistency and reliability, even when dealing with the most complex document sets.Captideâ€™s adoption of LangGraph Studio and CLI further enhances its development workflow. By running agents locally and integrating outputs with LangSmith, the team has created an efficient environment where rapid iterations and testing are the norm.Integrating LangSmith for Real-Time Insights and ImprovementFor Captide, real-time monitoring and iterative enhancement are non-negotiable. ðŸ’¡LangSmith provides Captide with a robust suite of tools to track agent performance, evaluate outputs, and gather invaluable user feedback as soon as tasks are run.Captideâ€™s integration of LangSmith allows for precise monitoring of agent workflows, with detailed traces that highlight response times, error rates, and operational costs. This visibility ensures that the platform maintains its high standards of performance and reliability.LangSmith has also been crucial when incorporating thumbs-up and thumbs-down options within the platform where users can directly rate the quality of outputs. This feedback is collected and analyzed, creating a growing dataset that helps refine agent behavior and improve system performance over time. With LangSmithâ€™s evaluation tools, this feedback loop enables Captide to identify trends, address weaknesses, and continuously enhance the user experience.Deploying on LangGraph PlatformWhen LangChain launched LangGraph Platform this summer, it was a no-brainer to deploy their cutting-edge agents on it.With Captide's agent built on LangGraph, it was a one-click deploy to get production-ready API endpoints for interacting with the agent. This includes endpoints for streaming as well as for getting the state of the thread at any point in time.LangGraph Platform also contains LangGraph Studio, an IDE for visualizing and interacting with the agent once deployed. It also seamlessly integrates with LangSmith, which was a crucial part of Captide's workflow.For these reasons, it was an easy decision to adopt LangGraph Platform.Looking Ahead: The Future of Financial AnalysisAs Captide continues to redefine financial analysis, its integration with LangChain remains a driving force behind its progress. The platform is poised to expand its NLP capabilities, focusing on state management and self-validation loops to enhance accuracy and reliability further.Captide is not just transforming how financial analysts work but also setting a new standard for the industry. Built on the capabilities of LangGraph and LangSmith, Captide is paving the way for a smarter, more effective future in financial analysis.\\n\\n\\nTags\\nCase Studies\\n\\n\\nJoin our newsletter\\nUpdates from the LangChain team and community\\n\\n\\nEnter your email\\n\\nSubscribe\\n\\nProcessing your application...\\nSuccess! Please check your inbox and click the link to confirm your subscription.\\nSorry, something went wrong. Please try again.\\n\\n\\n\\n\\n\\nYou might also like\\n\\n\\n\\n\\n\\n\\n\\n\\n\\n\\nHow Minimal built a multi-agent customer support system with LangGraph & LangSmith\\n\\n\\nCase Studies\\n4 min read\\n\\n\\n\\n\\n\\n\\n\\n\\n\\n\\n\\n\\nAcxiom's use of LangSmith for enhanced audience segmentation\\n\\n\\nCase Studies\\n3 min read\\n\\n\\n\\n\\n\\n\\n\\n\\n\\n\\n\\n\\nHow AppFolio transformed property management workflows with Realm-X, built using LangGraph and LangSmith\\n\\n\\nCase Studies\\n4 min read\\n\\n\\n\\n\\n\\n\\n\\n\\n\\n\\n\\n\\nHow Clericâ€™s AI SRE leveled up with continuous learning through LangSmith\\n\\n\\nCase Studies\\n4 min read\\n\\n\\n\\n\\n\\n\\n\\n\\n\\n\\n\\n\\nHow Airtop built web-automation for AI agents powered by the LangChain ecosystem\\n\\n\\nCase Studies\\n3 min read\\n\\n\\n\\n\\n\\n\\n\\n\\n\\n\\n\\n\\nHow Dun & Bradstreetâ€™s ChatD&Bâ„¢ uses LangChain and LangSmith to deliver trusted, data-driven AI insights\\n\\n\\nCase Studies\\n4 min read\\n\\n\\n\\n\\n\\n\\n\\n\\n\\n\\n\\n\\n\\n\\nSign up\\n\\n\\n\\n\\n\\n            Â© LangChain Blog 2025\\n        \\n\\n\\n\\n\\n\\n\\n\")]"
            ]
          },
          "metadata": {},
          "execution_count": 5
        }
      ]
    },
    {
      "cell_type": "code",
      "source": [
        "### Load Data--> Docs-->Divide our Docuemnts into chunks dcouments-->text-->vectors-->Vector Embeddings--->Vector Store DB\n",
        "from langchain_text_splitters import RecursiveCharacterTextSplitter\n",
        "\n",
        "text_splitter=RecursiveCharacterTextSplitter(chunk_size=1000,chunk_overlap=200)\n",
        "documents=text_splitter.split_documents(docs)"
      ],
      "metadata": {
        "id": "ng-Z72qNuowL"
      },
      "execution_count": 6,
      "outputs": []
    },
    {
      "cell_type": "code",
      "source": [
        "documents"
      ],
      "metadata": {
        "colab": {
          "base_uri": "https://localhost:8080/"
        },
        "id": "qACUWJQNuozq",
        "outputId": "2d0a2edf-b96a-4d1e-b6fd-e25f10d82986"
      },
      "execution_count": 7,
      "outputs": [
        {
          "output_type": "execute_result",
          "data": {
            "text/plain": [
              "[Document(metadata={'source': 'https://blog.langchain.dev/how-captide-is-redefining-equity-research-with-agentic-workflows-built-on-langgraph-and-langsmith/', 'title': 'How Captide is redefining equity research with agentic workflows running on LangGraph Platform', 'language': 'en'}, page_content='How Captide is redefining equity research with agentic workflows running on LangGraph Platform\\n\\n\\n\\n\\n\\n\\n\\n\\n\\n\\n\\n\\n\\n\\n\\n\\n\\n\\n\\n\\n\\n\\n\\n\\n\\n\\n\\n\\n\\n\\n\\n\\n\\n\\n\\n\\n\\n\\n\\n\\n\\n\\n\\n\\n\\n\\n\\n\\n\\n\\n\\n\\nSkip to content\\n\\n\\n\\n\\n\\n\\n\\n\\n\\n\\n\\n\\n\\n\\n\\n\\nCase Studies\\n\\n\\n\\n\\nIn the Loop\\n\\n\\n\\n\\nLangChain\\n\\n\\n\\n\\nDocs\\n\\n\\n\\n\\nChangelog\\n\\n\\n\\n\\n\\nSign in\\nSubscribe\\n\\n\\n\\n\\n\\n\\n\\n\\n\\n\\n\\n\\n\\n\\n\\n\\n\\n\\n\\nHow Captide is redefining equity research with agentic workflows running on LangGraph Platform\\n\\nCase Studies\\n3 min read\\nJan 20, 2025'),\n",
              " Document(metadata={'source': 'https://blog.langchain.dev/how-captide-is-redefining-equity-research-with-agentic-workflows-built-on-langgraph-and-langsmith/', 'title': 'How Captide is redefining equity research with agentic workflows running on LangGraph Platform', 'language': 'en'}, page_content='Captideâ€™s platform transforms how investment research teams work with financial data. By automating the extraction of insights and metrics from regulatory filings and investor relations documents, analysts can create customized datasets and analyses with extreme efficiency. At the heart of this innovation is their commitment to NLP workflows and its strategic integration of LangGraph and LangSmith, hosted on LangGraph Platform.Redefining Financial Analysis with NLP WorkflowsBy allowing users to articulate complex analysis tasks in natural language, Captide simplifies the process of extracting financial metrics, creating customized datasets, and uncovering contextual insights. Once the user defines their analysis tasks, Captideâ€™s agents take over, orchestrating the entire data retrieval and processing pipeline from a big corpus of financial documents.This seamless transition from query to actionable results redefines efficiency in financial analysis. It provides unmatched'),\n",
              " Document(metadata={'source': 'https://blog.langchain.dev/how-captide-is-redefining-equity-research-with-agentic-workflows-built-on-langgraph-and-langsmith/', 'title': 'How Captide is redefining equity research with agentic workflows running on LangGraph Platform', 'language': 'en'}, page_content='retrieval and processing pipeline from a big corpus of financial documents.This seamless transition from query to actionable results redefines efficiency in financial analysis. It provides unmatched flexibility to extract company-specific metrics and insights, overcoming the fixed-schema limitations of legacy platforms, while analyzing exponentially larger volumes of investments.To achieve this, Captide relies on the capabilities of LangGraph and LangSmith, ensuring precision, scalability, and reliable outputs that align with the stringent standards of the financial industry.Using LangGraph for parallel processing and structured outputsðŸ’¡LangGraph has become indispensable in Captideâ€™s technological stack.The frameworkâ€™s intuitive design has streamlined development, reducing the complexity of tracking agent workflows while enhancing operational efficiency. With LangGraph, Captideâ€™s team can manage complex agentic processes, such as parallel document processing and creation of'),\n",
              " Document(metadata={'source': 'https://blog.langchain.dev/how-captide-is-redefining-equity-research-with-agentic-workflows-built-on-langgraph-and-langsmith/', 'title': 'How Captide is redefining equity research with agentic workflows running on LangGraph Platform', 'language': 'en'}, page_content='of tracking agent workflows while enhancing operational efficiency. With LangGraph, Captideâ€™s team can manage complex agentic processes, such as parallel document processing and creation of structured outputs with ease.For example, when analyzing vast troves of regulatory filings, LangGraphâ€™s parallel processing capabilities come into play. Multiple agents work simultaneously to execute ticker-specific vector store queries, retrieve relevant documents, and grade each document chunks. This approach not only minimizes latency but also eliminates the need to complicate the codebase with asynchronous functions.The platformâ€™s ability to generate structured outputs is another highlight. By leveraging LangGraphâ€™s trustcall python library, Captide ensures that users can request table outputs with their custom schemas to structure metrics found in distinct documents. Trustcall makes the output adhere strictly to predefined JSON schemas, an essential requirement for Captideâ€™s'),\n",
              " Document(metadata={'source': 'https://blog.langchain.dev/how-captide-is-redefining-equity-research-with-agentic-workflows-built-on-langgraph-and-langsmith/', 'title': 'How Captide is redefining equity research with agentic workflows running on LangGraph Platform', 'language': 'en'}, page_content='outputs with their custom schemas to structure metrics found in distinct documents. Trustcall makes the output adhere strictly to predefined JSON schemas, an essential requirement for Captideâ€™s features. This guarantees consistency and reliability, even when dealing with the most complex document sets.Captideâ€™s adoption of LangGraph Studio and CLI further enhances its development workflow. By running agents locally and integrating outputs with LangSmith, the team has created an efficient environment where rapid iterations and testing are the norm.Integrating LangSmith for Real-Time Insights and ImprovementFor Captide, real-time monitoring and iterative enhancement are non-negotiable. ðŸ’¡LangSmith provides Captide with a robust suite of tools to track agent performance, evaluate outputs, and gather invaluable user feedback as soon as tasks are run.Captideâ€™s integration of LangSmith allows for precise monitoring of agent workflows, with detailed traces that highlight response'),\n",
              " Document(metadata={'source': 'https://blog.langchain.dev/how-captide-is-redefining-equity-research-with-agentic-workflows-built-on-langgraph-and-langsmith/', 'title': 'How Captide is redefining equity research with agentic workflows running on LangGraph Platform', 'language': 'en'}, page_content=\"and gather invaluable user feedback as soon as tasks are run.Captideâ€™s integration of LangSmith allows for precise monitoring of agent workflows, with detailed traces that highlight response times, error rates, and operational costs. This visibility ensures that the platform maintains its high standards of performance and reliability.LangSmith has also been crucial when incorporating thumbs-up and thumbs-down options within the platform where users can directly rate the quality of outputs. This feedback is collected and analyzed, creating a growing dataset that helps refine agent behavior and improve system performance over time. With LangSmithâ€™s evaluation tools, this feedback loop enables Captide to identify trends, address weaknesses, and continuously enhance the user experience.Deploying on LangGraph PlatformWhen LangChain launched LangGraph Platform this summer, it was a no-brainer to deploy their cutting-edge agents on it.With Captide's agent built on LangGraph, it was a\"),\n",
              " Document(metadata={'source': 'https://blog.langchain.dev/how-captide-is-redefining-equity-research-with-agentic-workflows-built-on-langgraph-and-langsmith/', 'title': 'How Captide is redefining equity research with agentic workflows running on LangGraph Platform', 'language': 'en'}, page_content=\"on LangGraph PlatformWhen LangChain launched LangGraph Platform this summer, it was a no-brainer to deploy their cutting-edge agents on it.With Captide's agent built on LangGraph, it was a one-click deploy to get production-ready API endpoints for interacting with the agent. This includes endpoints for streaming as well as for getting the state of the thread at any point in time.LangGraph Platform also contains LangGraph Studio, an IDE for visualizing and interacting with the agent once deployed. It also seamlessly integrates with LangSmith, which was a crucial part of Captide's workflow.For these reasons, it was an easy decision to adopt LangGraph Platform.Looking Ahead: The Future of Financial AnalysisAs Captide continues to redefine financial analysis, its integration with LangChain remains a driving force behind its progress. The platform is poised to expand its NLP capabilities, focusing on state management and self-validation loops to enhance accuracy and reliability\"),\n",
              " Document(metadata={'source': 'https://blog.langchain.dev/how-captide-is-redefining-equity-research-with-agentic-workflows-built-on-langgraph-and-langsmith/', 'title': 'How Captide is redefining equity research with agentic workflows running on LangGraph Platform', 'language': 'en'}, page_content='remains a driving force behind its progress. The platform is poised to expand its NLP capabilities, focusing on state management and self-validation loops to enhance accuracy and reliability further.Captide is not just transforming how financial analysts work but also setting a new standard for the industry. Built on the capabilities of LangGraph and LangSmith, Captide is paving the way for a smarter, more effective future in financial analysis.'),\n",
              " Document(metadata={'source': 'https://blog.langchain.dev/how-captide-is-redefining-equity-research-with-agentic-workflows-built-on-langgraph-and-langsmith/', 'title': 'How Captide is redefining equity research with agentic workflows running on LangGraph Platform', 'language': 'en'}, page_content=\"Tags\\nCase Studies\\n\\n\\nJoin our newsletter\\nUpdates from the LangChain team and community\\n\\n\\nEnter your email\\n\\nSubscribe\\n\\nProcessing your application...\\nSuccess! Please check your inbox and click the link to confirm your subscription.\\nSorry, something went wrong. Please try again.\\n\\n\\n\\n\\n\\nYou might also like\\n\\n\\n\\n\\n\\n\\n\\n\\n\\n\\nHow Minimal built a multi-agent customer support system with LangGraph & LangSmith\\n\\n\\nCase Studies\\n4 min read\\n\\n\\n\\n\\n\\n\\n\\n\\n\\n\\n\\n\\nAcxiom's use of LangSmith for enhanced audience segmentation\\n\\n\\nCase Studies\\n3 min read\\n\\n\\n\\n\\n\\n\\n\\n\\n\\n\\n\\n\\nHow AppFolio transformed property management workflows with Realm-X, built using LangGraph and LangSmith\\n\\n\\nCase Studies\\n4 min read\\n\\n\\n\\n\\n\\n\\n\\n\\n\\n\\n\\n\\nHow Clericâ€™s AI SRE leveled up with continuous learning through LangSmith\\n\\n\\nCase Studies\\n4 min read\\n\\n\\n\\n\\n\\n\\n\\n\\n\\n\\n\\n\\nHow Airtop built web-automation for AI agents powered by the LangChain ecosystem\\n\\n\\nCase Studies\\n3 min read\"),\n",
              " Document(metadata={'source': 'https://blog.langchain.dev/how-captide-is-redefining-equity-research-with-agentic-workflows-built-on-langgraph-and-langsmith/', 'title': 'How Captide is redefining equity research with agentic workflows running on LangGraph Platform', 'language': 'en'}, page_content='Case Studies\\n4 min read\\n\\n\\n\\n\\n\\n\\n\\n\\n\\n\\n\\n\\nHow Airtop built web-automation for AI agents powered by the LangChain ecosystem\\n\\n\\nCase Studies\\n3 min read\\n\\n\\n\\n\\n\\n\\n\\n\\n\\n\\n\\n\\nHow Dun & Bradstreetâ€™s ChatD&Bâ„¢ uses LangChain and LangSmith to deliver trusted, data-driven AI insights\\n\\n\\nCase Studies\\n4 min read\\n\\n\\n\\n\\n\\n\\n\\n\\n\\n\\n\\n\\n\\n\\nSign up\\n\\n\\n\\n\\n\\n            Â© LangChain Blog 2025')]"
            ]
          },
          "metadata": {},
          "execution_count": 7
        }
      ]
    },
    {
      "cell_type": "code",
      "source": [
        "from langchain_openai import OpenAIEmbeddings\n",
        "embeddings=OpenAIEmbeddings(model=\"text-embedding-3-large\")"
      ],
      "metadata": {
        "id": "LtsDAEwmxD_i"
      },
      "execution_count": 8,
      "outputs": []
    },
    {
      "cell_type": "code",
      "source": [
        "from langchain_community.vectorstores import FAISS\n",
        "vectorstoredb=FAISS.from_documents(documents,embeddings)"
      ],
      "metadata": {
        "id": "3UqsWQh0xD5r"
      },
      "execution_count": 9,
      "outputs": []
    },
    {
      "cell_type": "code",
      "source": [
        "## Query From a vector db\n",
        "query=\"LangSmith has two usage limits: total traces and extended\"\n",
        "result=vectorstoredb.similarity_search(query)\n",
        "result[0].page_content"
      ],
      "metadata": {
        "colab": {
          "base_uri": "https://localhost:8080/",
          "height": 174
        },
        "id": "rqADkTTqxD1j",
        "outputId": "e69394e6-b4a9-4c26-f421-fe0cb88a1a61"
      },
      "execution_count": 10,
      "outputs": [
        {
          "output_type": "execute_result",
          "data": {
            "text/plain": [
              "\"and gather invaluable user feedback as soon as tasks are run.Captideâ€™s integration of LangSmith allows for precise monitoring of agent workflows, with detailed traces that highlight response times, error rates, and operational costs. This visibility ensures that the platform maintains its high standards of performance and reliability.LangSmith has also been crucial when incorporating thumbs-up and thumbs-down options within the platform where users can directly rate the quality of outputs. This feedback is collected and analyzed, creating a growing dataset that helps refine agent behavior and improve system performance over time. With LangSmithâ€™s evaluation tools, this feedback loop enables Captide to identify trends, address weaknesses, and continuously enhance the user experience.Deploying on LangGraph PlatformWhen LangChain launched LangGraph Platform this summer, it was a no-brainer to deploy their cutting-edge agents on it.With Captide's agent built on LangGraph, it was a\""
            ],
            "application/vnd.google.colaboratory.intrinsic+json": {
              "type": "string"
            }
          },
          "metadata": {},
          "execution_count": 10
        }
      ]
    },
    {
      "cell_type": "code",
      "source": [
        "from langchain_openai import ChatOpenAI\n",
        "llm=ChatOpenAI(model=\"gpt-4o\")"
      ],
      "metadata": {
        "id": "pGVj3wvRxwYF"
      },
      "execution_count": 11,
      "outputs": []
    },
    {
      "cell_type": "code",
      "source": [
        "## Retrieval Chain, Document chain\n",
        "\n",
        "from langchain.chains.combine_documents import create_stuff_documents_chain\n",
        "from langchain_core.prompts import ChatPromptTemplate\n",
        "\n",
        "prompt=ChatPromptTemplate.from_template(\n",
        "    \"\"\"\n",
        "Answer the following question based only on the provided context:\n",
        "<context>\n",
        "{context}\n",
        "</context>\n",
        "\n",
        "\n",
        "\"\"\"\n",
        ")\n",
        "llm = ChatOpenAI(model=\"gpt-4o\")\n",
        "\n",
        "document_chain=create_stuff_documents_chain(llm,prompt)\n",
        "document_chain"
      ],
      "metadata": {
        "colab": {
          "base_uri": "https://localhost:8080/"
        },
        "id": "5fnu3bnzxwSs",
        "outputId": "6e50cb6a-5d62-4672-fbed-c2cfa2c47490"
      },
      "execution_count": 12,
      "outputs": [
        {
          "output_type": "execute_result",
          "data": {
            "text/plain": [
              "RunnableBinding(bound=RunnableBinding(bound=RunnableAssign(mapper={\n",
              "  context: RunnableLambda(format_docs)\n",
              "}), kwargs={}, config={'run_name': 'format_inputs'}, config_factories=[])\n",
              "| ChatPromptTemplate(input_variables=['context'], input_types={}, partial_variables={}, messages=[HumanMessagePromptTemplate(prompt=PromptTemplate(input_variables=['context'], input_types={}, partial_variables={}, template='\\nAnswer the following question based only on the provided context:\\n<context>\\n{context}\\n</context>\\n\\n\\n'), additional_kwargs={})])\n",
              "| ChatOpenAI(client=<openai.resources.chat.completions.Completions object at 0x7cff32246790>, async_client=<openai.resources.chat.completions.AsyncCompletions object at 0x7cff3314e550>, root_client=<openai.OpenAI object at 0x7cff332c0b10>, root_async_client=<openai.AsyncOpenAI object at 0x7cff32246a90>, model_name='gpt-4o', model_kwargs={}, openai_api_key=SecretStr('**********'))\n",
              "| StrOutputParser(), kwargs={}, config={'run_name': 'stuff_documents_chain'}, config_factories=[])"
            ]
          },
          "metadata": {},
          "execution_count": 12
        }
      ]
    },
    {
      "cell_type": "code",
      "source": [
        "from langchain_core.documents import Document\n",
        "\n",
        "doc = Document(page_content=\"By allowing users to articulate complex analysis tasks in natural language, Captide simplifies the process of extracting financial metrics\")\n",
        "\n",
        "response = document_chain.invoke({\n",
        "    \"input\": \"Redefining Financial Analysis with NLP Workflows\",\n",
        "    \"context\": [doc]\n",
        "})\n",
        "\n",
        "print(response)\n"
      ],
      "metadata": {
        "colab": {
          "base_uri": "https://localhost:8080/"
        },
        "id": "IDBTbnI2xwN8",
        "outputId": "85067f74-44d0-4f14-d3ea-64851b282a24"
      },
      "execution_count": 13,
      "outputs": [
        {
          "output_type": "stream",
          "name": "stdout",
          "text": [
            "Captide simplifies the process of extracting financial metrics by allowing users to articulate complex analysis tasks in natural language.\n"
          ]
        }
      ]
    },
    {
      "cell_type": "code",
      "source": [
        "retriever=vectorstoredb.as_retriever()\n",
        "from langchain.chains import create_retrieval_chain\n",
        "retrieval_chain=create_retrieval_chain(retriever,document_chain)"
      ],
      "metadata": {
        "id": "1ah5EaNaxwKM"
      },
      "execution_count": 14,
      "outputs": []
    },
    {
      "cell_type": "code",
      "source": [
        "## Get the response form the LLM\n",
        "response=retrieval_chain.invoke({\"input\":\"Redefining Financial Analysis with NLP Workflows\"})\n",
        "response['answer']"
      ],
      "metadata": {
        "colab": {
          "base_uri": "https://localhost:8080/",
          "height": 157
        },
        "id": "_3bv7ZfT4OYG",
        "outputId": "75989792-4d62-4ee7-8a4f-0b23a2339457"
      },
      "execution_count": 15,
      "outputs": [
        {
          "output_type": "execute_result",
          "data": {
            "text/plain": [
              "\"Captide is redefining equity research through the use of its platform, which leverages agentic workflows running on the LangGraph Platform. By automating the extraction of insights and metrics from financial documents such as regulatory filings and investor relations documents, Captide allows analysts to create customized datasets and conduct analyses more efficiently. The use of NLP (Natural Language Processing) workflows enables users to specify complex analysis tasks in natural language, which Captide's agents then execute, automating the entire data retrieval and processing pipeline. This process overcomes the fixed-schema limitations of legacy platforms, allowing for flexibility and the analysis of larger volumes of data. Additionally, LangGraph provides parallel processing capabilities and structured outputs, further enhancing operational efficiency and precision in analysis.\""
            ],
            "application/vnd.google.colaboratory.intrinsic+json": {
              "type": "string"
            }
          },
          "metadata": {},
          "execution_count": 15
        }
      ]
    },
    {
      "cell_type": "code",
      "source": [
        "response"
      ],
      "metadata": {
        "colab": {
          "base_uri": "https://localhost:8080/"
        },
        "id": "Hirl1_bN4OUR",
        "outputId": "d23a5cfc-4e9a-426d-d53a-1bd51cdba25c"
      },
      "execution_count": 16,
      "outputs": [
        {
          "output_type": "execute_result",
          "data": {
            "text/plain": [
              "{'input': 'Redefining Financial Analysis with NLP Workflows',\n",
              " 'context': [Document(id='a3ba51fa-e485-4b83-bdfc-c8ff8b338e20', metadata={'source': 'https://blog.langchain.dev/how-captide-is-redefining-equity-research-with-agentic-workflows-built-on-langgraph-and-langsmith/', 'title': 'How Captide is redefining equity research with agentic workflows running on LangGraph Platform', 'language': 'en'}, page_content='Captideâ€™s platform transforms how investment research teams work with financial data. By automating the extraction of insights and metrics from regulatory filings and investor relations documents, analysts can create customized datasets and analyses with extreme efficiency. At the heart of this innovation is their commitment to NLP workflows and its strategic integration of LangGraph and LangSmith, hosted on LangGraph Platform.Redefining Financial Analysis with NLP WorkflowsBy allowing users to articulate complex analysis tasks in natural language, Captide simplifies the process of extracting financial metrics, creating customized datasets, and uncovering contextual insights. Once the user defines their analysis tasks, Captideâ€™s agents take over, orchestrating the entire data retrieval and processing pipeline from a big corpus of financial documents.This seamless transition from query to actionable results redefines efficiency in financial analysis. It provides unmatched'),\n",
              "  Document(id='13de4d66-5008-4846-8d4c-295387c48b6f', metadata={'source': 'https://blog.langchain.dev/how-captide-is-redefining-equity-research-with-agentic-workflows-built-on-langgraph-and-langsmith/', 'title': 'How Captide is redefining equity research with agentic workflows running on LangGraph Platform', 'language': 'en'}, page_content='retrieval and processing pipeline from a big corpus of financial documents.This seamless transition from query to actionable results redefines efficiency in financial analysis. It provides unmatched flexibility to extract company-specific metrics and insights, overcoming the fixed-schema limitations of legacy platforms, while analyzing exponentially larger volumes of investments.To achieve this, Captide relies on the capabilities of LangGraph and LangSmith, ensuring precision, scalability, and reliable outputs that align with the stringent standards of the financial industry.Using LangGraph for parallel processing and structured outputsðŸ’¡LangGraph has become indispensable in Captideâ€™s technological stack.The frameworkâ€™s intuitive design has streamlined development, reducing the complexity of tracking agent workflows while enhancing operational efficiency. With LangGraph, Captideâ€™s team can manage complex agentic processes, such as parallel document processing and creation of'),\n",
              "  Document(id='153a158d-3a1f-4417-868f-7a3f5c0c0e1e', metadata={'source': 'https://blog.langchain.dev/how-captide-is-redefining-equity-research-with-agentic-workflows-built-on-langgraph-and-langsmith/', 'title': 'How Captide is redefining equity research with agentic workflows running on LangGraph Platform', 'language': 'en'}, page_content='How Captide is redefining equity research with agentic workflows running on LangGraph Platform\\n\\n\\n\\n\\n\\n\\n\\n\\n\\n\\n\\n\\n\\n\\n\\n\\n\\n\\n\\n\\n\\n\\n\\n\\n\\n\\n\\n\\n\\n\\n\\n\\n\\n\\n\\n\\n\\n\\n\\n\\n\\n\\n\\n\\n\\n\\n\\n\\n\\n\\n\\n\\nSkip to content\\n\\n\\n\\n\\n\\n\\n\\n\\n\\n\\n\\n\\n\\n\\n\\n\\nCase Studies\\n\\n\\n\\n\\nIn the Loop\\n\\n\\n\\n\\nLangChain\\n\\n\\n\\n\\nDocs\\n\\n\\n\\n\\nChangelog\\n\\n\\n\\n\\n\\nSign in\\nSubscribe\\n\\n\\n\\n\\n\\n\\n\\n\\n\\n\\n\\n\\n\\n\\n\\n\\n\\n\\n\\nHow Captide is redefining equity research with agentic workflows running on LangGraph Platform\\n\\nCase Studies\\n3 min read\\nJan 20, 2025'),\n",
              "  Document(id='2b0a8199-a15b-4f51-ae83-d70fbf7a7a40', metadata={'source': 'https://blog.langchain.dev/how-captide-is-redefining-equity-research-with-agentic-workflows-built-on-langgraph-and-langsmith/', 'title': 'How Captide is redefining equity research with agentic workflows running on LangGraph Platform', 'language': 'en'}, page_content='remains a driving force behind its progress. The platform is poised to expand its NLP capabilities, focusing on state management and self-validation loops to enhance accuracy and reliability further.Captide is not just transforming how financial analysts work but also setting a new standard for the industry. Built on the capabilities of LangGraph and LangSmith, Captide is paving the way for a smarter, more effective future in financial analysis.')],\n",
              " 'answer': \"Captide is redefining equity research through the use of its platform, which leverages agentic workflows running on the LangGraph Platform. By automating the extraction of insights and metrics from financial documents such as regulatory filings and investor relations documents, Captide allows analysts to create customized datasets and conduct analyses more efficiently. The use of NLP (Natural Language Processing) workflows enables users to specify complex analysis tasks in natural language, which Captide's agents then execute, automating the entire data retrieval and processing pipeline. This process overcomes the fixed-schema limitations of legacy platforms, allowing for flexibility and the analysis of larger volumes of data. Additionally, LangGraph provides parallel processing capabilities and structured outputs, further enhancing operational efficiency and precision in analysis.\"}"
            ]
          },
          "metadata": {},
          "execution_count": 16
        }
      ]
    },
    {
      "cell_type": "code",
      "source": [],
      "metadata": {
        "id": "zwewjqU74OJJ"
      },
      "execution_count": null,
      "outputs": []
    }
  ]
}